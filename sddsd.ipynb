{
 "cells": [
  {
   "cell_type": "markdown",
   "id": "5f5da6e2",
   "metadata": {},
   "source": [
    "# my name idf jiwjleifj\n"
   ]
  },
  {
   "cell_type": "code",
   "execution_count": 6,
   "id": "72d0aade",
   "metadata": {},
   "outputs": [
    {
     "name": "stdout",
     "output_type": "stream",
     "text": [
      "dfjeh\n"
     ]
    }
   ],
   "source": [
    "print(\"dfjeh\")"
   ]
  },
  {
   "cell_type": "code",
   "execution_count": null,
   "id": "72d4c658",
   "metadata": {},
   "outputs": [],
   "source": []
  }
 ],
 "metadata": {
  "kernelspec": {
   "display_name": "Python 3",
   "language": "python",
   "name": "python3"
  },
  "language_info": {
   "codemirror_mode": {
    "name": "ipython",
    "version": 3
   },
   "file_extension": ".py",
   "mimetype": "text/x-python",
   "name": "python",
   "nbconvert_exporter": "python",
   "pygments_lexer": "ipython3",
   "version": "3.8.8"
  }
 },
 "nbformat": 4,
 "nbformat_minor": 5
}
